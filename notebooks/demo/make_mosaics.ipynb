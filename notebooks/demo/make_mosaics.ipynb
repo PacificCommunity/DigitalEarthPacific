{
 "cells": [
  {
   "cell_type": "markdown",
   "id": "808f0b56-7529-49f1-b277-04840089acef",
   "metadata": {},
   "source": [
    "# Build a Mosaic of Outputs\n",
    "\n",
    "Given outputs of different geographies (data tiles), combine these into a single layer for visualization.\n",
    "In this example we take a Sentinel 2 cloudless composite for 2 months over 2 islands, Vanatu and New Caldonia and combine them into a mosaic per month.\n",
    "\n",
    "The mosaicjson is generated and then uploaded to blob storage where it can be used by Titiler."
   ]
  },
  {
   "cell_type": "code",
   "execution_count": 5,
   "id": "e24af24a-e67b-4450-a469-1b8a9012bbf3",
   "metadata": {},
   "outputs": [],
   "source": [
    "!pip install -q cogeo-mosaic"
   ]
  },
  {
   "cell_type": "code",
   "execution_count": 10,
   "id": "5f3d4a4c-32c2-4a29-9e96-ec0195cc2467",
   "metadata": {},
   "outputs": [],
   "source": [
    "from os import path\n",
    "\n",
    "from cogeo_mosaic.mosaic import MosaicJSON\n",
    "from cogeo_mosaic.backends import MosaicBackend\n",
    "\n",
    "from azure.storage.blob import ContainerClient"
   ]
  },
  {
   "cell_type": "code",
   "execution_count": 1,
   "id": "50608bbe-622b-4980-b71c-421543991478",
   "metadata": {},
   "outputs": [
    {
     "name": "stdout",
     "output_type": "stream",
     "text": [
      "Driver: GTiff/GeoTIFF\n",
      "Files: /vsicurl/https://deppcpublicstorage.blob.core.windows.net/output/demo/s2cloudless/s2-cloudless-sep2020-ncl.tif\n",
      "Size is 9435, 5269\n",
      "Coordinate System is:\n",
      "PROJCRS[\"WGS 84 / UTM zone 59S\",\n",
      "    BASEGEOGCRS[\"WGS 84\",\n",
      "        DATUM[\"World Geodetic System 1984\",\n",
      "            ELLIPSOID[\"WGS 84\",6378137,298.257223563,\n",
      "                LENGTHUNIT[\"metre\",1]]],\n",
      "        PRIMEM[\"Greenwich\",0,\n",
      "            ANGLEUNIT[\"degree\",0.0174532925199433]],\n",
      "        ID[\"EPSG\",4326]],\n",
      "    CONVERSION[\"UTM zone 59S\",\n",
      "        METHOD[\"Transverse Mercator\",\n",
      "            ID[\"EPSG\",9807]],\n",
      "        PARAMETER[\"Latitude of natural origin\",0,\n",
      "            ANGLEUNIT[\"degree\",0.0174532925199433],\n",
      "            ID[\"EPSG\",8801]],\n",
      "        PARAMETER[\"Longitude of natural origin\",171,\n",
      "            ANGLEUNIT[\"degree\",0.0174532925199433],\n",
      "            ID[\"EPSG\",8802]],\n",
      "        PARAMETER[\"Scale factor at natural origin\",0.9996,\n",
      "            SCALEUNIT[\"unity\",1],\n",
      "            ID[\"EPSG\",8805]],\n",
      "        PARAMETER[\"False easting\",500000,\n",
      "            LENGTHUNIT[\"metre\",1],\n",
      "            ID[\"EPSG\",8806]],\n",
      "        PARAMETER[\"False northing\",10000000,\n",
      "            LENGTHUNIT[\"metre\",1],\n",
      "            ID[\"EPSG\",8807]]],\n",
      "    CS[Cartesian,2],\n",
      "        AXIS[\"(E)\",east,\n",
      "            ORDER[1],\n",
      "            LENGTHUNIT[\"metre\",1]],\n",
      "        AXIS[\"(N)\",north,\n",
      "            ORDER[2],\n",
      "            LENGTHUNIT[\"metre\",1]],\n",
      "    USAGE[\n",
      "        SCOPE[\"Engineering survey, topographic mapping.\"],\n",
      "        AREA[\"Between 168°E and 174°E, southern hemisphere between 80°S and equator, onshore and offshore. New Zealand.\"],\n",
      "        BBOX[-80,168,0,174]],\n",
      "    ID[\"EPSG\",32759]]\n",
      "Data axis to CRS axis mapping: 1,2\n",
      "Origin = (-333750.000000000000000,7900050.000000000000000)\n",
      "Pixel Size = (100.000000000000000,-100.000000000000000)\n",
      "Metadata:\n",
      "  AREA_OR_POINT=Area\n",
      "Image Structure Metadata:\n",
      "  COMPRESSION=LZW\n",
      "  INTERLEAVE=PIXEL\n",
      "  LAYOUT=COG\n",
      "Corner Coordinates:\n",
      "Upper Left  ( -333750.000, 7900050.000) (163d 6'23.86\"E, 18d49'25.82\"S)\n",
      "Lower Left  ( -333750.000, 7373150.000) (162d51' 1.95\"E, 23d32'16.26\"S)\n",
      "Upper Right (  609750.000, 7900050.000) (172d 2'33.52\"E, 18d59'20.88\"S)\n",
      "Lower Right (  609750.000, 7373150.000) (172d 4'36.89\"E, 23d44'56.30\"S)\n",
      "Center      (  138000.000, 7636600.000) (167d30'38.02\"E, 21d20'11.27\"S)\n",
      "Band 1 Block=512x512 Type=Byte, ColorInterp=Undefined\n",
      "  Description = true_color\n",
      "  Overviews: 4717x2634, 2358x1317, 1179x658, 589x329, 294x164\n",
      "Band 2 Block=512x512 Type=Byte, ColorInterp=Undefined\n",
      "  Description = true_color\n",
      "  Overviews: 4717x2634, 2358x1317, 1179x658, 589x329, 294x164\n",
      "Band 3 Block=512x512 Type=Byte, ColorInterp=Undefined\n",
      "  Description = true_color\n",
      "  Overviews: 4717x2634, 2358x1317, 1179x658, 589x329, 294x164\n",
      "Band 4 Block=512x512 Type=Byte, ColorInterp=Undefined\n",
      "  Description = true_color\n",
      "  Overviews: 4717x2634, 2358x1317, 1179x658, 589x329, 294x164\n"
     ]
    }
   ],
   "source": [
    "#Check access to images\n",
    "!gdalinfo /vsicurl/https://deppcpublicstorage.blob.core.windows.net/output/demo/s2cloudless/s2-cloudless-sep2020-ncl.tif"
   ]
  },
  {
   "cell_type": "code",
   "execution_count": 7,
   "id": "92bea2e0-edde-4623-87e2-1b1db20e8727",
   "metadata": {},
   "outputs": [],
   "source": [
    "sep2020_mosaic = [\"https://deppcpublicstorage.blob.core.windows.net/output/demo/s2cloudless/s2-cloudless-sep2020-ncl.tif\", \n",
    "                  \"https://deppcpublicstorage.blob.core.windows.net/output/demo/s2cloudless/s2-cloudless-sep2020.tif\"]\n",
    "\n",
    "\n",
    "mosaicdata = MosaicJSON.from_urls(sep2020_mosaic)\n",
    "\n",
    "with MosaicBackend(\"/home/jovyan/tmp/sep2020-mosaic.json\", mosaic_def=mosaicdata) as mosaic:\n",
    "    mosaic.write()"
   ]
  },
  {
   "cell_type": "code",
   "execution_count": 8,
   "id": "e1c1a616-43d2-4015-bffa-156fcbb3d806",
   "metadata": {},
   "outputs": [],
   "source": [
    "dec2020_mosaic = [\"https://deppcpublicstorage.blob.core.windows.net/output/demo/s2cloudless/s2-cloudless-dec2020-ncl.tif\", \n",
    "                  \"https://deppcpublicstorage.blob.core.windows.net/output/demo/s2cloudless/s2-cloudless-dec2020.tif\"]\n",
    "\n",
    "\n",
    "mosaicdata = MosaicJSON.from_urls(dec2020_mosaic)\n",
    "\n",
    "with MosaicBackend(\"/home/jovyan/tmp/dec2020-mosaic.json\", mosaic_def=mosaicdata) as mosaic:\n",
    "    mosaic.write()"
   ]
  },
  {
   "cell_type": "code",
   "execution_count": 11,
   "id": "df8824a5-de63-4a37-afe6-4fd8aebee5e5",
   "metadata": {},
   "outputs": [],
   "source": [
    "files = [\"/home/jovyan/tmp/dec2020-mosaic.json\", \"/home/jovyan/tmp/sep2020-mosaic.json\"]\n",
    "account_url = \"accounturl+SAStoken\"\n",
    "container_client = ContainerClient.from_container_url(account_url)\n",
    "\n",
    "for file_name in files:\n",
    "    with open(file_name, \"rb\") as blob_file:\n",
    "        blob_name = \"/\".join([\"demo\", \"s2cloudless\", path.basename(file_name)])\n",
    "        container_client.upload_blob(name=blob_name, data=blob_file)"
   ]
  }
 ],
 "metadata": {
  "kernelspec": {
   "display_name": "Python 3 (ipykernel)",
   "language": "python",
   "name": "python3"
  },
  "language_info": {
   "codemirror_mode": {
    "name": "ipython",
    "version": 3
   },
   "file_extension": ".py",
   "mimetype": "text/x-python",
   "name": "python",
   "nbconvert_exporter": "python",
   "pygments_lexer": "ipython3",
   "version": "3.8.12"
  }
 },
 "nbformat": 4,
 "nbformat_minor": 5
}
